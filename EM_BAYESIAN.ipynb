{
  "nbformat": 4,
  "nbformat_minor": 0,
  "metadata": {
    "colab": {
      "provenance": [],
      "authorship_tag": "ABX9TyOR/XRAyTO1QRv+L3D46LFV",
      "include_colab_link": true
    },
    "kernelspec": {
      "name": "python3",
      "display_name": "Python 3"
    },
    "language_info": {
      "name": "python"
    }
  },
  "cells": [
    {
      "cell_type": "markdown",
      "metadata": {
        "id": "view-in-github",
        "colab_type": "text"
      },
      "source": [
        "<a href=\"https://colab.research.google.com/github/GIBSONGODSAN/MachineLearningAlgorithms/blob/main/EM_BAYESIAN.ipynb\" target=\"_parent\"><img src=\"https://colab.research.google.com/assets/colab-badge.svg\" alt=\"Open In Colab\"/></a>"
      ]
    },
    {
      "cell_type": "markdown",
      "source": [
        "# EM BAYESIAN NETWORK\n",
        "Expectation-Maximization (EM) algorithm can be applied to estimate the parameters of a Bayesian network. A Bayesian network is a probabilistic graphical model that represents a set of variables and their probabilistic dependencies. The EM algorithm is an iterative optimization method that seeks to find the maximum likelihood estimates of the unknown parameters in a probabilistic model when there are missing or unobserved data."
      ],
      "metadata": {
        "id": "tKcoSEdZmnaT"
      }
    },
    {
      "cell_type": "code",
      "source": [
        "pip install pgmpy"
      ],
      "metadata": {
        "colab": {
          "base_uri": "https://localhost:8080/"
        },
        "id": "abASIKH5nFyN",
        "outputId": "4689daef-933d-40f0-e54d-e8e0911e90cd"
      },
      "execution_count": 2,
      "outputs": [
        {
          "output_type": "stream",
          "name": "stdout",
          "text": [
            "Looking in indexes: https://pypi.org/simple, https://us-python.pkg.dev/colab-wheels/public/simple/\n",
            "Collecting pgmpy\n",
            "  Downloading pgmpy-0.1.22-py3-none-any.whl (1.9 MB)\n",
            "\u001b[2K     \u001b[90m━━━━━━━━━━━━━━━━━━━━━━━━━━━━━━━━━━━━━━━━\u001b[0m \u001b[32m1.9/1.9 MB\u001b[0m \u001b[31m26.6 MB/s\u001b[0m eta \u001b[36m0:00:00\u001b[0m\n",
            "\u001b[?25hRequirement already satisfied: networkx in /usr/local/lib/python3.10/dist-packages (from pgmpy) (3.1)\n",
            "Requirement already satisfied: numpy in /usr/local/lib/python3.10/dist-packages (from pgmpy) (1.22.4)\n",
            "Requirement already satisfied: scipy in /usr/local/lib/python3.10/dist-packages (from pgmpy) (1.10.1)\n",
            "Requirement already satisfied: scikit-learn in /usr/local/lib/python3.10/dist-packages (from pgmpy) (1.2.2)\n",
            "Requirement already satisfied: pandas in /usr/local/lib/python3.10/dist-packages (from pgmpy) (1.5.3)\n",
            "Requirement already satisfied: pyparsing in /usr/local/lib/python3.10/dist-packages (from pgmpy) (3.0.9)\n",
            "Requirement already satisfied: torch in /usr/local/lib/python3.10/dist-packages (from pgmpy) (2.0.1+cu118)\n",
            "Requirement already satisfied: statsmodels in /usr/local/lib/python3.10/dist-packages (from pgmpy) (0.13.5)\n",
            "Requirement already satisfied: tqdm in /usr/local/lib/python3.10/dist-packages (from pgmpy) (4.65.0)\n",
            "Requirement already satisfied: joblib in /usr/local/lib/python3.10/dist-packages (from pgmpy) (1.2.0)\n",
            "Requirement already satisfied: opt-einsum in /usr/local/lib/python3.10/dist-packages (from pgmpy) (3.3.0)\n",
            "Requirement already satisfied: python-dateutil>=2.8.1 in /usr/local/lib/python3.10/dist-packages (from pandas->pgmpy) (2.8.2)\n",
            "Requirement already satisfied: pytz>=2020.1 in /usr/local/lib/python3.10/dist-packages (from pandas->pgmpy) (2022.7.1)\n",
            "Requirement already satisfied: threadpoolctl>=2.0.0 in /usr/local/lib/python3.10/dist-packages (from scikit-learn->pgmpy) (3.1.0)\n",
            "Requirement already satisfied: patsy>=0.5.2 in /usr/local/lib/python3.10/dist-packages (from statsmodels->pgmpy) (0.5.3)\n",
            "Requirement already satisfied: packaging>=21.3 in /usr/local/lib/python3.10/dist-packages (from statsmodels->pgmpy) (23.1)\n",
            "Requirement already satisfied: filelock in /usr/local/lib/python3.10/dist-packages (from torch->pgmpy) (3.12.0)\n",
            "Requirement already satisfied: typing-extensions in /usr/local/lib/python3.10/dist-packages (from torch->pgmpy) (4.5.0)\n",
            "Requirement already satisfied: sympy in /usr/local/lib/python3.10/dist-packages (from torch->pgmpy) (1.11.1)\n",
            "Requirement already satisfied: jinja2 in /usr/local/lib/python3.10/dist-packages (from torch->pgmpy) (3.1.2)\n",
            "Requirement already satisfied: triton==2.0.0 in /usr/local/lib/python3.10/dist-packages (from torch->pgmpy) (2.0.0)\n",
            "Requirement already satisfied: cmake in /usr/local/lib/python3.10/dist-packages (from triton==2.0.0->torch->pgmpy) (3.25.2)\n",
            "Requirement already satisfied: lit in /usr/local/lib/python3.10/dist-packages (from triton==2.0.0->torch->pgmpy) (16.0.5)\n",
            "Requirement already satisfied: six in /usr/local/lib/python3.10/dist-packages (from patsy>=0.5.2->statsmodels->pgmpy) (1.16.0)\n",
            "Requirement already satisfied: MarkupSafe>=2.0 in /usr/local/lib/python3.10/dist-packages (from jinja2->torch->pgmpy) (2.1.2)\n",
            "Requirement already satisfied: mpmath>=0.19 in /usr/local/lib/python3.10/dist-packages (from sympy->torch->pgmpy) (1.3.0)\n",
            "Installing collected packages: pgmpy\n",
            "Successfully installed pgmpy-0.1.22\n"
          ]
        }
      ]
    },
    {
      "cell_type": "code",
      "execution_count": 3,
      "metadata": {
        "colab": {
          "base_uri": "https://localhost:8080/"
        },
        "id": "IstRmOlLmkDe",
        "outputId": "6d41b1fd-08df-4898-87ee-8202c5c6f0d8"
      },
      "outputs": [
        {
          "output_type": "stream",
          "name": "stderr",
          "text": [
            "/usr/local/lib/python3.10/dist-packages/pgmpy/models/BayesianModel.py:8: FutureWarning: BayesianModel has been renamed to BayesianNetwork. Please use BayesianNetwork class, BayesianModel will be removed in future.\n",
            "  warnings.warn(\n"
          ]
        },
        {
          "output_type": "stream",
          "name": "stdout",
          "text": [
            "+------+-------+\n",
            "| A(0) | 0.464 |\n",
            "+------+-------+\n",
            "| A(1) | 0.536 |\n",
            "+------+-------+\n",
            "+------+--------------------+-----+---------------------+\n",
            "| A    | A(0)               | ... | A(1)                |\n",
            "+------+--------------------+-----+---------------------+\n",
            "| B    | B(0)               | ... | B(1)                |\n",
            "+------+--------------------+-----+---------------------+\n",
            "| C(0) | 0.4690265486725664 | ... | 0.46387832699619774 |\n",
            "+------+--------------------+-----+---------------------+\n",
            "| C(1) | 0.5309734513274337 | ... | 0.5361216730038023  |\n",
            "+------+--------------------+-----+---------------------+\n",
            "+------+-------+\n",
            "| B(0) | 0.499 |\n",
            "+------+-------+\n",
            "| B(1) | 0.501 |\n",
            "+------+-------+\n",
            "+------+---------------------+---------------------+\n",
            "| B    | B(0)                | B(1)                |\n",
            "+------+---------------------+---------------------+\n",
            "| D(0) | 0.46292585170340683 | 0.5089820359281437  |\n",
            "+------+---------------------+---------------------+\n",
            "| D(1) | 0.5370741482965932  | 0.49101796407185627 |\n",
            "+------+---------------------+---------------------+\n",
            "+------+--------------------+--------------------+\n",
            "| C    | C(0)               | C(1)               |\n",
            "+------+--------------------+--------------------+\n",
            "| E(0) | 0.5134575569358178 | 0.4835589941972921 |\n",
            "+------+--------------------+--------------------+\n",
            "| E(1) | 0.4865424430641822 | 0.5164410058027079 |\n",
            "+------+--------------------+--------------------+\n"
          ]
        }
      ],
      "source": [
        "from pgmpy.models import BayesianModel\n",
        "from pgmpy.estimators import MaximumLikelihoodEstimator, BayesianEstimator\n",
        "import numpy as np\n",
        "import pandas as pd\n",
        "\n",
        "# Define the Bayesian network structure\n",
        "model = BayesianModel([('A', 'C'), ('B', 'C'), ('B', 'D'), ('C', 'E')])\n",
        "\n",
        "# Generate some random data for learning\n",
        "data = np.random.randint(low=0, high=2, size=(1000, 5))\n",
        "data = pd.DataFrame(data, columns=['A', 'B', 'C', 'D', 'E'])\n",
        "\n",
        "# Initialize the parameters randomly\n",
        "model.fit(data, estimator=MaximumLikelihoodEstimator)\n",
        "\n",
        "# Perform EM algorithm\n",
        "for _ in range(10):  # Number of EM iterations\n",
        "    # Expectation step\n",
        "    model.fit(data, estimator=BayesianEstimator, prior_type='BDeu')\n",
        "\n",
        "    # Maximization step\n",
        "    model.fit(data, estimator=MaximumLikelihoodEstimator)\n",
        "\n",
        "# Print the learned parameters\n",
        "for cpd in model.get_cpds():\n",
        "    print(cpd)\n"
      ]
    },
    {
      "cell_type": "markdown",
      "source": [
        "The provided code utilizes the `pgmpy` library in Python to apply the Expectation-Maximization (EM) algorithm for parameter estimation in a Bayesian network. The code defines the network structure, generates random data for learning, and initializes the parameters using Maximum Likelihood Estimation (MLE). It then performs iterations of the EM algorithm, consisting of the Expectation step (fitting data using Bayesian Estimator) and the Maximization step (updating parameters using Maximum Likelihood Estimator). Finally, the learned parameters are printed. Overall, the code demonstrates the application of EM for estimating parameters in a Bayesian network using the `pgmpy` library."
      ],
      "metadata": {
        "id": "Wpq3bzswnW6_"
      }
    }
  ]
}