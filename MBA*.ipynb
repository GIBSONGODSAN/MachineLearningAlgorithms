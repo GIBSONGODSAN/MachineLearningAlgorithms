{
  "nbformat": 4,
  "nbformat_minor": 0,
  "metadata": {
    "colab": {
      "provenance": [],
      "authorship_tag": "ABX9TyNmJM/ORsK/8x68mgXck9UV",
      "include_colab_link": true
    },
    "kernelspec": {
      "name": "python3",
      "display_name": "Python 3"
    },
    "language_info": {
      "name": "python"
    }
  },
  "cells": [
    {
      "cell_type": "markdown",
      "metadata": {
        "id": "view-in-github",
        "colab_type": "text"
      },
      "source": [
        "<a href=\"https://colab.research.google.com/github/GIBSONGODSAN/MachineLearningAlgorithms/blob/main/MBA*.ipynb\" target=\"_parent\"><img src=\"https://colab.research.google.com/assets/colab-badge.svg\" alt=\"Open In Colab\"/></a>"
      ]
    },
    {
      "cell_type": "markdown",
      "source": [
        "# MEMORY BOUNDED A*\n",
        "The Memory Bounded A* (MBA*) algorithm is a variant of the A* search algorithm designed to reduce memory usage. It replaces the priority queue used in A* with a limited-size fringe to store promising nodes. When the fringe becomes full, less promising nodes are pruned to make room for new ones. This trade-off between memory and computation time helps the algorithm work within limited memory resources. However, MBA* does not guarantee optimal solutions like A* and is used in scenarios where memory is constrained, such as robotics or embedded systems."
      ],
      "metadata": {
        "id": "JolYgCc1lfPu"
      }
    },
    {
      "cell_type": "code",
      "execution_count": 1,
      "metadata": {
        "colab": {
          "base_uri": "https://localhost:8080/"
        },
        "id": "uVFHTDMOlS4N",
        "outputId": "1bdae3c3-1478-486a-c36e-d83459d24b2b"
      },
      "outputs": [
        {
          "output_type": "stream",
          "name": "stdout",
          "text": [
            "Path: ['A', 'B', 'D', 'G']\n"
          ]
        }
      ],
      "source": [
        "import heapq\n",
        "class Node:\n",
        "    def __init__(self, state, parent=None, g=0, h=0):\n",
        "        self.state = state\n",
        "        self.parent = parent\n",
        "        self.g = g\n",
        "        self.h = h\n",
        "\n",
        "    def f(self):\n",
        "        return self.g + self.h\n",
        "\n",
        "\n",
        "def memory_bounded_a_star(start_state, goal_state, successors_fn, heuristic_fn, memory_limit):\n",
        "    open_list = []\n",
        "    closed_list = {}\n",
        "    max_memory = 0\n",
        "\n",
        "    start_node = Node(start_state)\n",
        "    heapq.heappush(open_list, (start_node.f(), start_node))\n",
        "\n",
        "    while open_list:\n",
        "        _, current_node = heapq.heappop(open_list)\n",
        "        closed_list[current_node.state] = current_node\n",
        "\n",
        "        if current_node.state == goal_state:\n",
        "            return reconstruct_path(current_node)\n",
        "\n",
        "        successors = successors_fn(current_node.state)\n",
        "        for successor_state, action_cost in successors:\n",
        "            g = current_node.g + action_cost\n",
        "            h = heuristic_fn(successor_state)\n",
        "            successor_node = Node(successor_state, current_node, g, h)\n",
        "\n",
        "            if successor_state in closed_list:\n",
        "                existing_node = closed_list[successor_state]\n",
        "                if g < existing_node.g:\n",
        "                    del closed_list[successor_state]\n",
        "                    heapq.heappush(open_list, (successor_node.f(), successor_node))\n",
        "            else:\n",
        "                heapq.heappush(open_list, (successor_node.f(), successor_node))\n",
        "                if len(closed_list) > memory_limit:\n",
        "                    _, node_to_remove = closed_list.popitem(last=False)\n",
        "                    if node_to_remove.f() > max_memory:\n",
        "                        max_memory = node_to_remove.f()\n",
        "\n",
        "    raise ValueError(\"No path found\")\n",
        "\n",
        "def reconstruct_path(node):\n",
        "    path = []\n",
        "    while node is not None:\n",
        "        path.append(node.state)\n",
        "        node = node.parent\n",
        "    path.reverse()\n",
        "    return path\n",
        "\n",
        "# Example usage\n",
        "def successors_fn(state):\n",
        "    if state == 'A':\n",
        "        return [('B', 5), ('C', 3)]\n",
        "    elif state == 'B':\n",
        "        return [('D', 2), ('E', 4)]\n",
        "    elif state == 'C':\n",
        "        return [('F', 6)]\n",
        "    elif state == 'D':\n",
        "        return [('G', 1)]\n",
        "    elif state == 'E':\n",
        "        return [('G', 3)]\n",
        "    elif state == 'F':\n",
        "        return [('G', 7)]\n",
        "    else:\n",
        "        return []\n",
        "\n",
        "def heuristic_fn(state):\n",
        "    heuristic_values = {\n",
        "        'A': 10,\n",
        "        'B': 8,\n",
        "        'C': 6,\n",
        "        'D': 4,\n",
        "        'E': 6,\n",
        "        'F': 3,\n",
        "        'G': 0\n",
        "    }\n",
        "    return heuristic_values[state]\n",
        "\n",
        "\n",
        "start_state = 'A'\n",
        "goal_state = 'G'\n",
        "memory_limit = 10\n",
        "\n",
        "path = memory_bounded_a_star(start_state, goal_state, successors_fn, heuristic_fn, memory_limit)\n",
        "print(\"Path:\", path)\n"
      ]
    },
    {
      "cell_type": "markdown",
      "source": [
        "The given program implements the Memory Bounded A* (MBA*) algorithm in Python to find a path from a start state to a goal state while limiting memory usage. It uses a priority queue and a closed list to manage the search process. The algorithm expands nodes, considering their costs and heuristic estimates, and prunes less promising nodes when the memory limit is reached. The program provides an example usage to find the optimal path from 'A' to 'G' in a graph. The MBA* algorithm is suitable for constrained memory environments and approximates reasonably good solutions within the specified memory limit."
      ],
      "metadata": {
        "id": "4ItIIMP1mM3t"
      }
    }
  ]
}