{
  "nbformat": 4,
  "nbformat_minor": 0,
  "metadata": {
    "colab": {
      "provenance": [],
      "authorship_tag": "ABX9TyN71pFf9hcuZ1x9MWgGAv9+",
      "include_colab_link": true
    },
    "kernelspec": {
      "name": "python3",
      "display_name": "Python 3"
    },
    "language_info": {
      "name": "python"
    }
  },
  "cells": [
    {
      "cell_type": "markdown",
      "metadata": {
        "id": "view-in-github",
        "colab_type": "text"
      },
      "source": [
        "<a href=\"https://colab.research.google.com/github/GIBSONGODSAN/MachineLearningAlgorithms/blob/main/NaiveBayesModel.ipynb\" target=\"_parent\"><img src=\"https://colab.research.google.com/assets/colab-badge.svg\" alt=\"Open In Colab\"/></a>"
      ]
    },
    {
      "cell_type": "markdown",
      "source": [
        "# Naive Bayes Model\n",
        "Naive Bayes is a probabilistic classification algorithm based on Bayes' theorem. It is called \"naive\" because it assumes that the features of a data point are independent of each other, even though this may not be true in reality.\n",
        "In a Naive Bayes model, we first train the model on a labeled dataset, where each data point has a set of features and a corresponding label or class. The model learns the probability distribution of each feature for each class, which allows it to predict the most likely class for a new data point based on its features."
      ],
      "metadata": {
        "id": "47yyxKtOTTfM"
      }
    },
    {
      "cell_type": "code",
      "source": [
        "from sklearn.datasets import load_iris\n",
        "from sklearn.naive_bayes import GaussianNB\n",
        "from sklearn.model_selection import train_test_split\n",
        "\n",
        "# Load the iris dataset\n",
        "iris = load_iris()\n",
        "\n",
        "# Split the data into training and testing sets\n",
        "X_train, X_test, y_train, y_test = train_test_split(iris.data, iris.target, test_size=0.3, random_state=0)\n",
        "\n",
        "# Create a Gaussian Naive Bayes classifier\n",
        "gnb = GaussianNB()\n",
        "\n",
        "# Train the classifier on the training data\n",
        "gnb.fit(X_train, y_train)\n",
        "\n",
        "# Predict the classes of the test data\n",
        "y_pred = gnb.predict(X_test)\n",
        "\n",
        "# Evaluate the performance of the classifier\n",
        "accuracy = (y_pred == y_test).sum() / len(y_test)\n",
        "print('Accuracy:', accuracy)\n"
      ],
      "metadata": {
        "colab": {
          "base_uri": "https://localhost:8080/"
        },
        "id": "eD_Uvnh1UuaQ",
        "outputId": "68a72366-5da7-463b-af50-6369b8378b29"
      },
      "execution_count": null,
      "outputs": [
        {
          "output_type": "stream",
          "name": "stdout",
          "text": [
            "Accuracy: 1.0\n"
          ]
        }
      ]
    }
  ]
}